{
 "cells": [
  {
   "cell_type": "markdown",
   "id": "5ed0ca94-e3ab-4fab-a5a3-5eb0307b6c26",
   "metadata": {},
   "source": [
    "![gym](gym.png)\n"
   ]
  },
  {
   "cell_type": "markdown",
   "id": "7ee8ccb9-c762-4f35-9b79-ebd2ab1824b0",
   "metadata": {},
   "source": [
    "You are a product manager for a fitness studio and are interested in understanding the current demand for digital fitness classes. You plan to conduct a market analysis in Python to gauge demand and identify potential areas for growth of digital products and services.\n",
    "\n",
    "### The Data\n",
    "\n",
    "You are provided with a number of CSV files in the \"Files/data\" folder, which offer international and national-level data on Google Trends keyword searches related to fitness and related products. \n",
    "\n",
    "### workout.csv\n",
    "\n",
    "| Column     | Description              |\n",
    "|------------|--------------------------|\n",
    "| `'month'` | Month when the data was measured. |\n",
    "| `'workout_worldwide'` | Index representing the popularity of the keyword 'workout', on a scale of 0 to 100. |\n",
    "\n",
    "### three_keywords.csv\n",
    "\n",
    "| Column     | Description              |\n",
    "|------------|--------------------------|\n",
    "| `'month'` | Month when the data was measured. |\n",
    "| `'home_workout_worldwide'` | Index representing the popularity of the keyword 'home workout', on a scale of 0 to 100. |\n",
    "| `'gym_workout_worldwide'` | Index representing the popularity of the keyword 'gym workout', on a scale of 0 to 100. |\n",
    "| `'home_gym_worldwide'` | Index representing the popularity of the keyword 'home gym', on a scale of 0 to 100. |\n",
    "\n",
    "### workout_geo.csv\n",
    "\n",
    "| Column     | Description              |\n",
    "|------------|--------------------------|\n",
    "| `'country'` | Country where the data was measured. |\n",
    "| `'workout_2018_2023'` | Index representing the popularity of the keyword 'workout' during the 5 year period. |\n",
    "\n",
    "### three_keywords_geo.csv\n",
    "\n",
    "| Column     | Description              |\n",
    "|------------|--------------------------|\n",
    "| `'country'` | Country where the data was measured. |\n",
    "| `'home_workout_2018_2023'` | Index representing the popularity of the keyword 'home workout' during the 5 year period. |\n",
    "| `'gym_workout_2018_2023'` | Index representing the popularity of the keyword 'gym workout' during the 5 year period.  |\n",
    "| `'home_gym_2018_2023'` | Index representing the popularity of the keyword 'home gym' during the 5 year period. |"
   ]
  },
  {
   "cell_type": "markdown",
   "id": "e60312aa",
   "metadata": {},
   "source": [
    "### 1. Import and Load Data"
   ]
  },
  {
   "cell_type": "code",
   "execution_count": 1,
   "id": "36e5d14e-3f2b-4123-97a3-d11880a7a047",
   "metadata": {
    "executionCancelledAt": null,
    "executionTime": 50,
    "lastExecutedAt": 1751845676116,
    "lastExecutedByKernel": "cd5a6305-4441-416a-859c-cfb8a810e7b3",
    "lastScheduledRunId": null,
    "lastSuccessfullyExecutedCode": "# Import the necessary libraries\nimport pandas as pd\nimport matplotlib.pyplot as plt",
    "outputsMetadata": {
     "0": {
      "height": 321,
      "type": "dataFrame"
     }
    }
   },
   "outputs": [],
   "source": [
    "# Import libraries\n",
    "import pandas as pd\n",
    "import matplotlib.pyplot as plt\n",
    "\n",
    "# Load each dataset \n",
    "workout = pd.read_csv(\"data/workout.csv\")\n",
    "three_keywords = pd.read_csv(\"data/three_keywords.csv\")\n",
    "workout_geo = pd.read_csv(\"data/workout_geo.csv\")\n",
    "three_keywords_geo = pd.read_csv(\"data/three_keywords_geo.csv\")"
   ]
  },
  {
   "cell_type": "markdown",
   "id": "a6eeef49",
   "metadata": {},
   "source": [
    "### 2. When global search for workout was at its peak"
   ]
  },
  {
   "cell_type": "code",
   "execution_count": 2,
   "id": "c303a942-ddac-498d-981e-0b7755259f3f",
   "metadata": {
    "executionCancelledAt": null,
    "executionTime": 52,
    "lastExecutedAt": 1751845676168,
    "lastExecutedByKernel": "cd5a6305-4441-416a-859c-cfb8a810e7b3",
    "lastScheduledRunId": null,
    "lastSuccessfullyExecutedCode": "# Start coding here\n\nworkout_df = pd.read_csv(\"data/workout.csv\")\nthree_keywords_df = pd.read_csv(\"data/three_keywords.csv\")\nworkout_geo_df = pd.read_csv(\"data/workout_geo.csv\")\nthree_keywords_geo_df = pd.read_csv(\"data/three_keywords_geo.csv\")\n\n#preview data\ndisplay(workout_df.head())\ndisplay(three_keywords_df.head())",
    "outputsMetadata": {
     "0": {
      "height": 236,
      "tableState": {
       "customFilter": {
        "const": {
         "type": "boolean",
         "valid": true,
         "value": true
        },
        "id": "652530cc-7d08-4ebb-b954-06de661ae7a0",
        "nodeType": "const"
       }
      },
      "type": "dataFrame"
     },
     "1": {
      "height": 50,
      "tableState": {
       "customFilter": {
        "const": {
         "type": "boolean",
         "valid": true,
         "value": true
        },
        "id": "652530cc-7d08-4ebb-b954-06de661ae7a0",
        "nodeType": "const"
       }
      },
      "type": "dataFrame"
     }
    }
   },
   "outputs": [
    {
     "data": {
      "text/html": [
       "<div>\n",
       "<style scoped>\n",
       "    .dataframe tbody tr th:only-of-type {\n",
       "        vertical-align: middle;\n",
       "    }\n",
       "\n",
       "    .dataframe tbody tr th {\n",
       "        vertical-align: top;\n",
       "    }\n",
       "\n",
       "    .dataframe thead th {\n",
       "        text-align: right;\n",
       "    }\n",
       "</style>\n",
       "<table border=\"1\" class=\"dataframe\">\n",
       "  <thead>\n",
       "    <tr style=\"text-align: right;\">\n",
       "      <th></th>\n",
       "      <th>month</th>\n",
       "      <th>workout_worldwide</th>\n",
       "    </tr>\n",
       "  </thead>\n",
       "  <tbody>\n",
       "    <tr>\n",
       "      <th>0</th>\n",
       "      <td>2018-03</td>\n",
       "      <td>59</td>\n",
       "    </tr>\n",
       "    <tr>\n",
       "      <th>1</th>\n",
       "      <td>2018-04</td>\n",
       "      <td>61</td>\n",
       "    </tr>\n",
       "    <tr>\n",
       "      <th>2</th>\n",
       "      <td>2018-05</td>\n",
       "      <td>57</td>\n",
       "    </tr>\n",
       "    <tr>\n",
       "      <th>3</th>\n",
       "      <td>2018-06</td>\n",
       "      <td>56</td>\n",
       "    </tr>\n",
       "    <tr>\n",
       "      <th>4</th>\n",
       "      <td>2018-07</td>\n",
       "      <td>51</td>\n",
       "    </tr>\n",
       "  </tbody>\n",
       "</table>\n",
       "</div>"
      ],
      "text/plain": [
       "     month  workout_worldwide\n",
       "0  2018-03                 59\n",
       "1  2018-04                 61\n",
       "2  2018-05                 57\n",
       "3  2018-06                 56\n",
       "4  2018-07                 51"
      ]
     },
     "metadata": {},
     "output_type": "display_data"
    },
    {
     "name": "stdout",
     "output_type": "stream",
     "text": [
      "<class 'pandas.core.frame.DataFrame'>\n",
      "RangeIndex: 61 entries, 0 to 60\n",
      "Data columns (total 2 columns):\n",
      " #   Column             Non-Null Count  Dtype \n",
      "---  ------             --------------  ----- \n",
      " 0   month              61 non-null     object\n",
      " 1   workout_worldwide  61 non-null     int64 \n",
      "dtypes: int64(1), object(1)\n",
      "memory usage: 1.1+ KB\n"
     ]
    }
   ],
   "source": [
    "# Preview workout data\n",
    "display(workout.head())\n",
    "\n",
    "# Inspect data structure and types\n",
    "workout.info()"
   ]
  },
  {
   "cell_type": "code",
   "execution_count": 3,
   "id": "3e996fdb-0ccb-4f42-a034-361c3c9042a5",
   "metadata": {
    "executionCancelledAt": null,
    "executionTime": 54,
    "lastExecutedAt": 1751845676222,
    "lastExecutedByKernel": "cd5a6305-4441-416a-859c-cfb8a810e7b3",
    "lastScheduledRunId": null,
    "lastSuccessfullyExecutedCode": "workout_df['month'] = pd.to_datetime(workout_df['month']) #convert month column to datetime\nworkout_df['year'] = workout_df['month'].dt.year\ndisplay(workout_df.head())",
    "outputsMetadata": {
     "0": {
      "height": 50,
      "tableState": {
       "customFilter": {
        "const": {
         "type": "boolean",
         "valid": true,
         "value": true
        },
        "id": "652530cc-7d08-4ebb-b954-06de661ae7a0",
        "nodeType": "const"
       }
      },
      "type": "dataFrame"
     }
    }
   },
   "outputs": [
    {
     "name": "stdout",
     "output_type": "stream",
     "text": [
      "Year where global search for workout was at its peak:  2020\n"
     ]
    }
   ],
   "source": [
    "#convert month column to datetime\n",
    "workout['month'] = pd.to_datetime(workout['month'])\n",
    "\n",
    "# Get the year from month column\n",
    "workout['year'] = workout['month'].dt.year\n",
    "\n",
    "# Calculate the mean workout worldwide groupby year\n",
    "yearly_avg = workout.groupby('year')['workout_worldwide'].mean() \n",
    "\n",
    "# Convert the index of the max value to string\n",
    "year_str = str(yearly_avg.idxmax())\n",
    "\n",
    "# Display result\n",
    "print('Year where global search for workout was at its peak: ', year_str)"
   ]
  },
  {
   "cell_type": "markdown",
   "id": "28066660",
   "metadata": {},
   "source": [
    "### 3. Most popular keyword during the covid pandemic and now"
   ]
  },
  {
   "cell_type": "code",
   "execution_count": 4,
   "id": "16deffd3",
   "metadata": {},
   "outputs": [
    {
     "data": {
      "text/html": [
       "<div>\n",
       "<style scoped>\n",
       "    .dataframe tbody tr th:only-of-type {\n",
       "        vertical-align: middle;\n",
       "    }\n",
       "\n",
       "    .dataframe tbody tr th {\n",
       "        vertical-align: top;\n",
       "    }\n",
       "\n",
       "    .dataframe thead th {\n",
       "        text-align: right;\n",
       "    }\n",
       "</style>\n",
       "<table border=\"1\" class=\"dataframe\">\n",
       "  <thead>\n",
       "    <tr style=\"text-align: right;\">\n",
       "      <th></th>\n",
       "      <th>month</th>\n",
       "      <th>home_workout_worldwide</th>\n",
       "      <th>gym_workout_worldwide</th>\n",
       "      <th>home_gym_worldwide</th>\n",
       "    </tr>\n",
       "  </thead>\n",
       "  <tbody>\n",
       "    <tr>\n",
       "      <th>0</th>\n",
       "      <td>2018-03</td>\n",
       "      <td>12</td>\n",
       "      <td>16</td>\n",
       "      <td>10</td>\n",
       "    </tr>\n",
       "    <tr>\n",
       "      <th>1</th>\n",
       "      <td>2018-04</td>\n",
       "      <td>12</td>\n",
       "      <td>18</td>\n",
       "      <td>10</td>\n",
       "    </tr>\n",
       "    <tr>\n",
       "      <th>2</th>\n",
       "      <td>2018-05</td>\n",
       "      <td>13</td>\n",
       "      <td>16</td>\n",
       "      <td>9</td>\n",
       "    </tr>\n",
       "    <tr>\n",
       "      <th>3</th>\n",
       "      <td>2018-06</td>\n",
       "      <td>12</td>\n",
       "      <td>17</td>\n",
       "      <td>9</td>\n",
       "    </tr>\n",
       "    <tr>\n",
       "      <th>4</th>\n",
       "      <td>2018-07</td>\n",
       "      <td>12</td>\n",
       "      <td>17</td>\n",
       "      <td>9</td>\n",
       "    </tr>\n",
       "  </tbody>\n",
       "</table>\n",
       "</div>"
      ],
      "text/plain": [
       "     month  home_workout_worldwide  gym_workout_worldwide  home_gym_worldwide\n",
       "0  2018-03                      12                     16                  10\n",
       "1  2018-04                      12                     18                  10\n",
       "2  2018-05                      13                     16                   9\n",
       "3  2018-06                      12                     17                   9\n",
       "4  2018-07                      12                     17                   9"
      ]
     },
     "metadata": {},
     "output_type": "display_data"
    },
    {
     "name": "stdout",
     "output_type": "stream",
     "text": [
      "<class 'pandas.core.frame.DataFrame'>\n",
      "RangeIndex: 61 entries, 0 to 60\n",
      "Data columns (total 4 columns):\n",
      " #   Column                  Non-Null Count  Dtype \n",
      "---  ------                  --------------  ----- \n",
      " 0   month                   61 non-null     object\n",
      " 1   home_workout_worldwide  61 non-null     int64 \n",
      " 2   gym_workout_worldwide   61 non-null     int64 \n",
      " 3   home_gym_worldwide      61 non-null     int64 \n",
      "dtypes: int64(3), object(1)\n",
      "memory usage: 2.0+ KB\n"
     ]
    }
   ],
   "source": [
    "# Preview three_keywords data\n",
    "display(three_keywords.head())\n",
    "\n",
    "# Inspect data structure and types\n",
    "three_keywords.info()"
   ]
  },
  {
   "cell_type": "code",
   "execution_count": 5,
   "id": "e3603fff-5138-49f3-993d-c3aaaed4c093",
   "metadata": {
    "executionCancelledAt": null,
    "executionTime": 64,
    "lastExecutedAt": 1751845676342,
    "lastExecutedByKernel": "cd5a6305-4441-416a-859c-cfb8a810e7b3",
    "lastScheduledRunId": null,
    "lastSuccessfullyExecutedCode": "three_keywords_df['month'] = pd.to_datetime(three_keywords_df['month'])\ncovid_df = three_keywords_df[(three_keywords_df['month'] >= '2020-01') & (three_keywords_df['month'] <= '2021-12')]\ndisplay(covid_df.head())",
    "outputsMetadata": {
     "0": {
      "height": 50,
      "tableState": {
       "customFilter": {
        "const": {
         "type": "boolean",
         "valid": true,
         "value": true
        },
        "id": "652530cc-7d08-4ebb-b954-06de661ae7a0",
        "nodeType": "const"
       }
      },
      "type": "dataFrame"
     }
    }
   },
   "outputs": [
    {
     "name": "stdout",
     "output_type": "stream",
     "text": [
      "Most popular keyword during COVID: home_workout_worldwide\n",
      "Most popular keyword now: gym_workout_worldwide\n"
     ]
    }
   ],
   "source": [
    "# Convert 'month' column to datetime format\n",
    "three_keywords['month'] = pd.to_datetime(three_keywords['month'])\n",
    "\n",
    "# Filter the dataset for the COVID period (Jan 2020 to Dec 2021)\n",
    "covid_df = three_keywords[\n",
    "    (three_keywords['month'] >= '2020-01') & \n",
    "    (three_keywords['month'] <= '2021-12')\n",
    "]\n",
    "\n",
    "# Calculate the average interest for each keyword during the COVID period\n",
    "covid_avg = covid_df.drop(columns='month').mean()\n",
    "\n",
    "# Identify the keyword with the highest average interest during COVID\n",
    "peak_covid = covid_avg.idxmax()\n",
    "\n",
    "# Get the most recent month in the dataset\n",
    "latest_month = three_keywords['month'].max()\n",
    "\n",
    "# Retrieve keyword interest values for the latest month (drop date column)\n",
    "current_row = three_keywords[\n",
    "    three_keywords['month'] == latest_month\n",
    "].drop(columns='month').iloc[0]\n",
    "\n",
    "# Identify the most popular keyword in the latest month\n",
    "current = current_row.idxmax()\n",
    "\n",
    "# Output results\n",
    "print(\"Most popular keyword during COVID:\", peak_covid)\n",
    "print(\"Most popular keyword now:\", current)\n"
   ]
  },
  {
   "cell_type": "markdown",
   "id": "3f7b5396",
   "metadata": {},
   "source": [
    "### 4. Top Workout Country: US vs Australia vs Japan"
   ]
  },
  {
   "cell_type": "code",
   "execution_count": 6,
   "id": "4946e586-f1dd-407c-a591-2c7c4ac66d80",
   "metadata": {
    "executionCancelledAt": null,
    "executionTime": 52,
    "lastExecutedAt": 1751845676549,
    "lastExecutedByKernel": "cd5a6305-4441-416a-859c-cfb8a810e7b3",
    "lastScheduledRunId": null,
    "lastSuccessfullyExecutedCode": "three_keywords_geo_df.head()",
    "outputsMetadata": {
     "0": {
      "height": 50,
      "tableState": {
       "customFilter": {
        "const": {
         "type": "boolean",
         "valid": true,
         "value": true
        },
        "id": "f11e80f6-8649-4abe-b629-f7a3fcee342c",
        "nodeType": "const"
       }
      },
      "type": "dataFrame"
     }
    }
   },
   "outputs": [
    {
     "data": {
      "text/html": [
       "<div>\n",
       "<style scoped>\n",
       "    .dataframe tbody tr th:only-of-type {\n",
       "        vertical-align: middle;\n",
       "    }\n",
       "\n",
       "    .dataframe tbody tr th {\n",
       "        vertical-align: top;\n",
       "    }\n",
       "\n",
       "    .dataframe thead th {\n",
       "        text-align: right;\n",
       "    }\n",
       "</style>\n",
       "<table border=\"1\" class=\"dataframe\">\n",
       "  <thead>\n",
       "    <tr style=\"text-align: right;\">\n",
       "      <th></th>\n",
       "      <th>country</th>\n",
       "      <th>workout_2018_2023</th>\n",
       "    </tr>\n",
       "  </thead>\n",
       "  <tbody>\n",
       "    <tr>\n",
       "      <th>0</th>\n",
       "      <td>Guam</td>\n",
       "      <td>NaN</td>\n",
       "    </tr>\n",
       "    <tr>\n",
       "      <th>1</th>\n",
       "      <td>Falkland Islands (Islas Malvinas)</td>\n",
       "      <td>NaN</td>\n",
       "    </tr>\n",
       "    <tr>\n",
       "      <th>2</th>\n",
       "      <td>Cook Islands</td>\n",
       "      <td>NaN</td>\n",
       "    </tr>\n",
       "    <tr>\n",
       "      <th>3</th>\n",
       "      <td>Brunei</td>\n",
       "      <td>NaN</td>\n",
       "    </tr>\n",
       "    <tr>\n",
       "      <th>4</th>\n",
       "      <td>Palau</td>\n",
       "      <td>NaN</td>\n",
       "    </tr>\n",
       "  </tbody>\n",
       "</table>\n",
       "</div>"
      ],
      "text/plain": [
       "                             country  workout_2018_2023\n",
       "0                               Guam                NaN\n",
       "1  Falkland Islands (Islas Malvinas)                NaN\n",
       "2                       Cook Islands                NaN\n",
       "3                             Brunei                NaN\n",
       "4                              Palau                NaN"
      ]
     },
     "metadata": {},
     "output_type": "display_data"
    },
    {
     "name": "stdout",
     "output_type": "stream",
     "text": [
      "<class 'pandas.core.frame.DataFrame'>\n",
      "RangeIndex: 250 entries, 0 to 249\n",
      "Data columns (total 2 columns):\n",
      " #   Column             Non-Null Count  Dtype  \n",
      "---  ------             --------------  -----  \n",
      " 0   country            250 non-null    object \n",
      " 1   workout_2018_2023  61 non-null     float64\n",
      "dtypes: float64(1), object(1)\n",
      "memory usage: 4.0+ KB\n"
     ]
    }
   ],
   "source": [
    "# Preview three_keywords data\n",
    "display(workout_geo.head())\n",
    "\n",
    "# Inspect data structure and types\n",
    "workout_geo.info()"
   ]
  },
  {
   "cell_type": "code",
   "execution_count": 7,
   "id": "fe20a5e6-d2bd-4b7e-80e5-3cd3a5abb02e",
   "metadata": {
    "executionCancelledAt": null,
    "executionTime": 57,
    "lastExecutedAt": 1751845676606,
    "lastExecutedByKernel": "cd5a6305-4441-416a-859c-cfb8a810e7b3",
    "lastScheduledRunId": null,
    "lastSuccessfullyExecutedCode": "countries = ['United States', 'Australia', 'Japan']\nfiltered_df = workout_geo_df[workout_geo_df['country'].isin(countries)]\n\nfiltered_df.head()",
    "outputsMetadata": {
     "0": {
      "height": 50,
      "tableState": {
       "customFilter": {
        "const": {
         "type": "boolean",
         "valid": true,
         "value": true
        },
        "id": "f11e80f6-8649-4abe-b629-f7a3fcee342c",
        "nodeType": "const"
       }
      },
      "type": "dataFrame"
     }
    }
   },
   "outputs": [
    {
     "name": "stdout",
     "output_type": "stream",
     "text": [
      "Top workout country: United States\n"
     ]
    },
    {
     "data": {
      "image/png": "[encoded data removed]",
      "text/plain": [
       "<Figure size 640x480 with 1 Axes>"
      ]
     },
     "metadata": {},
     "output_type": "display_data"
    }
   ],
   "source": [
    "# Define the countries to compare\n",
    "countries = ['United States', 'Australia', 'Japan']\n",
    "\n",
    "# Filter the dataset for the selected countries\n",
    "filtered_df = workout_geo[workout_geo['country'].isin(countries)]\n",
    "\n",
    "# Calculate the average interest in 'workout' from 2018 to 2023, and identify the country with the highest average\n",
    "filtered_df = filtered_df.groupby('country')['workout_2018_2023'].mean()\n",
    "top_country = filtered_df.idxmax()\n",
    "\n",
    "# Output the country with the highest workout interest\n",
    "print('Top workout country:', top_country)\n",
    "\n",
    "# Plot a bar chart comparing the average interest scores\n",
    "filtered_df.plot(kind='bar', color='teal', edgecolor='black')\n",
    "plt.title('Countries Average Interest for Workout')\n",
    "plt.xlabel('Country')\n",
    "plt.ylabel('Interest Score')\n",
    "plt.xticks(rotation=0)\n",
    "plt.tight_layout()\n",
    "plt.show()\n"
   ]
  },
  {
   "cell_type": "markdown",
   "id": "13ed9b6d",
   "metadata": {},
   "source": [
    "### 5. Higher Home Workout Interest: Philippines vs Malaysia"
   ]
  },
  {
   "cell_type": "code",
   "execution_count": 8,
   "id": "07224534",
   "metadata": {},
   "outputs": [
    {
     "data": {
      "text/html": [
       "<div>\n",
       "<style scoped>\n",
       "    .dataframe tbody tr th:only-of-type {\n",
       "        vertical-align: middle;\n",
       "    }\n",
       "\n",
       "    .dataframe tbody tr th {\n",
       "        vertical-align: top;\n",
       "    }\n",
       "\n",
       "    .dataframe thead th {\n",
       "        text-align: right;\n",
       "    }\n",
       "</style>\n",
       "<table border=\"1\" class=\"dataframe\">\n",
       "  <thead>\n",
       "    <tr style=\"text-align: right;\">\n",
       "      <th></th>\n",
       "      <th>Country</th>\n",
       "      <th>home_workout_2018_2023</th>\n",
       "      <th>gym_workout_2018_2023</th>\n",
       "      <th>home_gym_2018_2023</th>\n",
       "    </tr>\n",
       "  </thead>\n",
       "  <tbody>\n",
       "    <tr>\n",
       "      <th>0</th>\n",
       "      <td>Gibraltar</td>\n",
       "      <td>NaN</td>\n",
       "      <td>NaN</td>\n",
       "      <td>NaN</td>\n",
       "    </tr>\n",
       "    <tr>\n",
       "      <th>1</th>\n",
       "      <td>Lesotho</td>\n",
       "      <td>NaN</td>\n",
       "      <td>NaN</td>\n",
       "      <td>NaN</td>\n",
       "    </tr>\n",
       "    <tr>\n",
       "      <th>2</th>\n",
       "      <td>Guam</td>\n",
       "      <td>NaN</td>\n",
       "      <td>NaN</td>\n",
       "      <td>NaN</td>\n",
       "    </tr>\n",
       "    <tr>\n",
       "      <th>3</th>\n",
       "      <td>Botswana</td>\n",
       "      <td>NaN</td>\n",
       "      <td>NaN</td>\n",
       "      <td>NaN</td>\n",
       "    </tr>\n",
       "    <tr>\n",
       "      <th>4</th>\n",
       "      <td>Brunei</td>\n",
       "      <td>NaN</td>\n",
       "      <td>NaN</td>\n",
       "      <td>NaN</td>\n",
       "    </tr>\n",
       "  </tbody>\n",
       "</table>\n",
       "</div>"
      ],
      "text/plain": [
       "     Country  home_workout_2018_2023  gym_workout_2018_2023  \\\n",
       "0  Gibraltar                     NaN                    NaN   \n",
       "1    Lesotho                     NaN                    NaN   \n",
       "2       Guam                     NaN                    NaN   \n",
       "3   Botswana                     NaN                    NaN   \n",
       "4     Brunei                     NaN                    NaN   \n",
       "\n",
       "   home_gym_2018_2023  \n",
       "0                 NaN  \n",
       "1                 NaN  \n",
       "2                 NaN  \n",
       "3                 NaN  \n",
       "4                 NaN  "
      ]
     },
     "metadata": {},
     "output_type": "display_data"
    },
    {
     "name": "stdout",
     "output_type": "stream",
     "text": [
      "<class 'pandas.core.frame.DataFrame'>\n",
      "RangeIndex: 250 entries, 0 to 249\n",
      "Data columns (total 4 columns):\n",
      " #   Column                  Non-Null Count  Dtype  \n",
      "---  ------                  --------------  -----  \n",
      " 0   Country                 250 non-null    object \n",
      " 1   home_workout_2018_2023  47 non-null     float64\n",
      " 2   gym_workout_2018_2023   47 non-null     float64\n",
      " 3   home_gym_2018_2023      47 non-null     float64\n",
      "dtypes: float64(3), object(1)\n",
      "memory usage: 7.9+ KB\n"
     ]
    }
   ],
   "source": [
    "# Preview three_keywords data\n",
    "display(three_keywords_geo.head())\n",
    "\n",
    "# Inspect data structure and types\n",
    "three_keywords_geo.info()"
   ]
  },
  {
   "cell_type": "code",
   "execution_count": 9,
   "id": "2b7980e7-5763-466c-b130-41b032f0966c",
   "metadata": {
    "executionCancelledAt": null,
    "executionTime": 56,
    "lastExecutedAt": 1751845676713,
    "lastExecutedByKernel": "cd5a6305-4441-416a-859c-cfb8a810e7b3",
    "lastScheduledRunId": null,
    "lastSuccessfullyExecutedCode": "target_countries = ['Philippines', 'Malaysia']\n\n# Assuming the correct column name is 'geo' instead of 'geography'\nfiltered_df = three_keywords_geo_df[three_keywords_geo_df['Country'].isin(target_countries)]\nfiltered_df",
    "outputsMetadata": {
     "0": {
      "height": 50,
      "tableState": {
       "customFilter": {
        "const": {
         "type": "boolean",
         "valid": true,
         "value": true
        },
        "id": "f11e80f6-8649-4abe-b629-f7a3fcee342c",
        "nodeType": "const"
       }
      },
      "type": "dataFrame"
     },
     "1": {
      "height": 50,
      "tableState": {
       "customFilter": {
        "const": {
         "type": "boolean",
         "valid": true,
         "value": true
        },
        "id": "f11e80f6-8649-4abe-b629-f7a3fcee342c",
        "nodeType": "const"
       }
      },
      "type": "dataFrame"
     }
    }
   },
   "outputs": [
    {
     "name": "stdout",
     "output_type": "stream",
     "text": [
      "Country most interested in home workout:  Philippines\n"
     ]
    },
    {
     "data": {
      "image/png": "[encoded data removed]",
      "text/plain": [
       "<Figure size 640x480 with 1 Axes>"
      ]
     },
     "metadata": {},
     "output_type": "display_data"
    }
   ],
   "source": [
    "# Define the countries of interest\n",
    "countries = ['Philippines', 'Malaysia']\n",
    "\n",
    "# Filter the dataset for only the selected countries\n",
    "filtered_df = three_keywords_geo[three_keywords_geo['Country'].isin(countries)]\n",
    "\n",
    "# Calculate the average interest in home workouts from 2018 to 2023 for each country\n",
    "avg_interest = filtered_df.groupby('Country')['home_workout_2018_2023'].mean()\n",
    "\n",
    "# Identify the country with the highest average interest\n",
    "home_workout_geo = avg_interest.idxmax()\n",
    "print('Country most interested in home workout: ', home_workout_geo)\n",
    "\n",
    "# Plot a bar chart comparing the average interest scores\n",
    "avg_interest.plot(kind='bar', color='royalblue', edgecolor='black')\n",
    "plt.title('Average Interest in Home Workouts (2018-2023)')\n",
    "plt.xlabel('Country')\n",
    "plt.ylabel('Interest Score')\n",
    "plt.xticks(rotation=0)\n",
    "plt.tight_layout()\n",
    "plt.show()\n"
   ]
  }
 ],
 "metadata": {
  "colab": {
   "name": "Welcome to DataCamp Workspaces.ipynb",
   "provenance": []
  },
  "editor": "DataLab",
  "kernelspec": {
   "display_name": ".venv",
   "language": "python",
   "name": "python3"
  },
  "language_info": {
   "codemirror_mode": {
    "name": "ipython",
    "version": 3
   },
   "file_extension": ".py",
   "mimetype": "text/x-python",
   "name": "python",
   "nbconvert_exporter": "python",
   "pygments_lexer": "ipython3",
   "version": "3.13.3"
  }
 },
 "nbformat": 4,
 "nbformat_minor": 5
}
